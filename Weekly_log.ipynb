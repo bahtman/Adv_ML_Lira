{
 "cells": [
  {
   "cell_type": "markdown",
   "metadata": {},
   "source": [
    "# Date:\n",
    "25/02"
   ]
  },
  {
   "cell_type": "markdown",
   "metadata": {},
   "source": [
    "# Summary of what we did this week:\n",
    "Picked this project and got initial brief on the project.\n",
    "We have assigned reading material in the group. What we have read are following:\n",
    "- chapter 10.3 in bishop\n",
    "- Unsupervised Anomaly Detection via Variational Auto-Encoder for Seasonal KPIs in Web Applications (Donut - code appended)\n",
    "- Learning Sparse Representation With Variational Auto-Encoder for Anomaly Detection (Dictionary learning og latent space created using VAE)\n",
    "- Time Series Anomaly Detection with Variational Autoencoders (LSTM)\n",
    "- Multidimensional Time Series Anomaly Detection: A GRU-based Gaussian Mixture Variational Autoencoder Approach\n",
    "\n",
    "We simmulated data in python and preprocessed this grouping the time series into windows of snippets.\n"
   ]
  },
  {
   "cell_type": "markdown",
   "metadata": {},
   "source": [
    "# Presentation of results (figures, tables, code etc):\n",
    "None"
   ]
  },
  {
   "cell_type": "markdown",
   "metadata": {},
   "source": [
    "# Action points and goals for next week:\n",
    "Delve into the theory of VAE and play around with the simulated data generation"
   ]
  },
  {
   "cell_type": "code",
   "execution_count": null,
   "metadata": {},
   "outputs": [],
   "source": []
  }
 ],
 "metadata": {
  "kernelspec": {
   "display_name": "Python 3",
   "language": "python",
   "name": "python3"
  },
  "language_info": {
   "codemirror_mode": {
    "name": "ipython",
    "version": 3
   },
   "file_extension": ".py",
   "mimetype": "text/x-python",
   "name": "python",
   "nbconvert_exporter": "python",
   "pygments_lexer": "ipython3",
   "version": "3.8.2"
  }
 },
 "nbformat": 4,
 "nbformat_minor": 4
}
